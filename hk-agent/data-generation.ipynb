{
 "cells": [
  {
   "cell_type": "code",
   "execution_count": 20,
   "metadata": {},
   "outputs": [
    {
     "name": "stderr",
     "output_type": "stream",
     "text": [
      "/Users/vijayravichander/Code/rl-agents-intro-will/rl-agents-intro-will/.venv/lib/python3.11/site-packages/tqdm/auto.py:21: TqdmWarning: IProgress not found. Please update jupyter and ipywidgets. See https://ipywidgets.readthedocs.io/en/stable/user_install.html\n",
      "  from .autonotebook import tqdm as notebook_tqdm\n"
     ]
    },
    {
     "data": {
      "text/plain": [
       "True"
      ]
     },
     "execution_count": 20,
     "metadata": {},
     "output_type": "execute_result"
    }
   ],
   "source": [
    "import verifiers as vf\n",
    "from dotenv import load_dotenv\n",
    "\n",
    "load_dotenv()"
   ]
  },
  {
   "cell_type": "code",
   "execution_count": 10,
   "metadata": {},
   "outputs": [],
   "source": [
    "import requests\n",
    "from markdownify import markdownify\n",
    "\n",
    "def fetch(url: str) -> str:\n",
    "    \"\"\" \n",
    "    Add Doc Strings\n",
    "    \"\"\"\n",
    "\n",
    "    try:\n",
    "        response = requests.get(url)\n",
    "\n",
    "        if response.status_code == 200:\n",
    "\n",
    "            response = requests.get(url)\n",
    "\n",
    "            response.raise_for_status()\n",
    "\n",
    "            return markdownify(response.text) \n",
    "    \n",
    "    except Exception as e:\n",
    "        return f\"Error: {str(e)}\"\n",
    "\n",
    "markdown_text = fetch(\"https://hebbarskitchen.com/recipes/dessert-recipes/\")\n",
    "\n",
    "with open(\"main_page.md\", \"a\") as f:\n",
    "    f.write(markdown_text)"
   ]
  },
  {
   "cell_type": "code",
   "execution_count": 11,
   "metadata": {},
   "outputs": [],
   "source": [
    "for page in range(2, 16):\n",
    "    url = \"https://hebbarskitchen.com/recipes/dessert-recipes/page/\" + str(page) + \"/\"\n",
    "    markdown_text = fetch(url)\n",
    "    with open(f\"page_{page}.md\", \"a\") as f:\n",
    "        f.write(markdown_text)"
   ]
  },
  {
   "cell_type": "code",
   "execution_count": 15,
   "metadata": {},
   "outputs": [],
   "source": [
    "bounty_chocolate_bar_markdown = fetch(\"https://hebbarskitchen.com/bounty-chocolate-recipe-bounty-bar/\")"
   ]
  },
  {
   "cell_type": "code",
   "execution_count": 17,
   "metadata": {},
   "outputs": [],
   "source": [
    "from openai import OpenAI\n",
    "import os\n",
    "\n",
    "client = OpenAI(base_url = os.getenv(\"DEEPINFRA_API_LINK\"), api_key = os.getenv(\"DEEPINFRA_API_KEY\"));"
   ]
  },
  {
   "cell_type": "code",
   "execution_count": 31,
   "metadata": {},
   "outputs": [
    {
     "name": "stdout",
     "output_type": "stream",
     "text": [
      "<final_answer>\n",
      "[\n",
      "  {\n",
      "    \"question\": \"What are the main ingredients required to make Bounty Chocolate Bars?\",\n",
      "    \"answer\": \"The main ingredients for Bounty Chocolate Bars are milk, sugar, desiccated coconut, cream, and milk chocolate.\"\n",
      "  },\n",
      "  {\n",
      "    \"question\": \"How much sugar is needed for the Bounty Chocolate Bars recipe?\",\n",
      "    \"answer\": \"The recipe requires 3/4 cup of sugar for the Bounty Chocolate Bars.\"\n",
      "  },\n",
      "  {\n",
      "    \"question\": \"What is the recommended amount of desiccated coconut for making Bounty Chocolate Bars?\",\n",
      "    \"answer\": \"You need 2 cups of desiccated coconut for the Bounty Chocolate Bars.\"\n",
      "  },\n",
      "  {\n",
      "    \"question\": \"How long should the Bounty Chocolate Bars be refrigerated before coating with chocolate?\",\n",
      "    \"answer\": \"Refrigerate the coconut bars for 1 hour before coating them with melted chocolate.\"\n",
      "  },\n",
      "  {\n",
      "    \"question\": \"What is the method used to melt chocolate for coating the Bounty Bars?\",\n",
      "    \"answer\": \"The double boiler method is used to melt the milk chocolate for coating the Bounty Bars.\"\n",
      "  }\n",
      "]\n",
      "</final_answer>\n"
     ]
    }
   ],
   "source": [
    "system_prompt = \"\"\"\n",
    "You're an helpful assistant. Given the document, you are required to generated 5 question and answers related to the main item in the document.\n",
    "* Keep the question and answer about 10 - 20 words each. \n",
    "* Make sure to specify the entire item name in the question.\n",
    "* The questions should be only related to the main item and not the document in general. \n",
    "* Try to generate questions that can be answered using this document and not any general questions. \n",
    "* You need to give the question and answer in JSON format and <final_answer> </final_answer> tags.\n",
    "* Add some questions and answers related to ingredients and measurements of them item.\n",
    "<final_answer>\n",
    "[\n",
    "{\n",
    "    \"question\" : \"\", \n",
    "    \"answer\" : \"\"\n",
    "}, ...\n",
    "]\n",
    "</final_answer>\n",
    "\"\"\"\n",
    "\n",
    "\n",
    "response = client.chat.completions.create(\n",
    "    model = \"deepseek-ai/DeepSeek-V3-0324\", \n",
    "    messages = [{\"role\": \"system\", \"content\": system_prompt}, \n",
    "    {\"role\": \"user\", \"content\": bounty_chocolate_bar_markdown}]\n",
    ")\n",
    "\n",
    "completion = response.choices[0].message.content\n",
    "\n",
    "print(completion)"
   ]
  },
  {
   "cell_type": "code",
   "execution_count": 28,
   "metadata": {},
   "outputs": [],
   "source": [
    "parser = vf.XMLParser(['final_answer'], answer_field=\"final_answer\")\n",
    "\n",
    "parsed_answer = parser.parse_answer(completion)"
   ]
  },
  {
   "cell_type": "code",
   "execution_count": 29,
   "metadata": {},
   "outputs": [],
   "source": [
    "import json\n",
    "qa = json.loads(parsed_answer.final_answer)"
   ]
  },
  {
   "cell_type": "code",
   "execution_count": 30,
   "metadata": {},
   "outputs": [
    {
     "name": "stdout",
     "output_type": "stream",
     "text": [
      "{'question': 'What are the main ingredients needed to make the bounty chocolate recipe?', 'answer': 'The main ingredients are milk, sugar, desiccated coconut, cream, and milk chocolate.'}\n",
      "{'question': 'How long should you refrigerate the bounty bars for them to set completely?', 'answer': 'Refrigerate the bounty bars for at least 1 hour for them to set completely.'}\n",
      "{'question': 'What is the purpose of adding cream to the bounty chocolate recipe?', 'answer': 'Adding cream makes the coconut layer creamy and tasty.'}\n",
      "{'question': 'How can you melt the chocolate for coating the bounty bars?', 'answer': 'Melt the milk chocolate using the double boiler method.'}\n",
      "{'question': 'How long can homemade bounty chocolate bars be stored?', 'answer': 'Homemade bounty bars can be stored for a week in an airtight container.'}\n"
     ]
    }
   ],
   "source": [
    "for q in qa:\n",
    "    print(q)"
   ]
  },
  {
   "cell_type": "code",
   "execution_count": null,
   "metadata": {},
   "outputs": [],
   "source": []
  }
 ],
 "metadata": {
  "kernelspec": {
   "display_name": "rl-agents-will",
   "language": "python",
   "name": "rl-agents-will"
  },
  "language_info": {
   "codemirror_mode": {
    "name": "ipython",
    "version": 3
   },
   "file_extension": ".py",
   "mimetype": "text/x-python",
   "name": "python",
   "nbconvert_exporter": "python",
   "pygments_lexer": "ipython3",
   "version": "3.11.6"
  }
 },
 "nbformat": 4,
 "nbformat_minor": 2
}
